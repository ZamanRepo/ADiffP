{
  "nbformat": 4,
  "nbformat_minor": 0,
  "metadata": {
    "colab": {
      "provenance": [],
      "mount_file_id": "1-THPcCzxRi-2JqdqURmhekzCr6q5HuLj",
      "authorship_tag": "ABX9TyMcVP1VCKsYfiQZdj2XW83Y",
      "include_colab_link": true
    },
    "kernelspec": {
      "name": "python3",
      "display_name": "Python 3"
    },
    "language_info": {
      "name": "python"
    }
  },
  "cells": [
    {
      "cell_type": "markdown",
      "metadata": {
        "id": "view-in-github",
        "colab_type": "text"
      },
      "source": [
        "<a href=\"https://colab.research.google.com/github/ZamanRepo/ADiffP/blob/master/py_Memory_Profiler_Tutorial_Zaman.ipynb\" target=\"_parent\"><img src=\"https://colab.research.google.com/assets/colab-badge.svg\" alt=\"Open In Colab\"/></a>"
      ]
    },
    {
      "cell_type": "markdown",
      "source": [
        "\n",
        "https://builtin.com/data-science/python-profiling-tools-tutorial\n",
        "\n",
        "@author: sadrachpierre\n"
      ],
      "metadata": {
        "id": "q_mC7kKIYiUN"
      }
    },
    {
      "cell_type": "code",
      "source": [
        "pip install memory_profiler\n"
      ],
      "metadata": {
        "colab": {
          "base_uri": "https://localhost:8080/"
        },
        "id": "ACoWSWkLZ2km",
        "outputId": "6408b665-fb17-47bd-91cb-74e56863156c"
      },
      "execution_count": 7,
      "outputs": [
        {
          "output_type": "stream",
          "name": "stdout",
          "text": [
            "Requirement already satisfied: memory_profiler in /usr/local/lib/python3.10/dist-packages (0.61.0)\n",
            "Requirement already satisfied: psutil in /usr/local/lib/python3.10/dist-packages (from memory_profiler) (5.9.5)\n"
          ]
        }
      ]
    },
    {
      "cell_type": "code",
      "source": [
        "pip install catboost"
      ],
      "metadata": {
        "colab": {
          "base_uri": "https://localhost:8080/"
        },
        "id": "8fw13Ed8aJQN",
        "outputId": "28eca88f-0a62-40f7-f5ab-7f2114e712ec"
      },
      "execution_count": 9,
      "outputs": [
        {
          "output_type": "stream",
          "name": "stdout",
          "text": [
            "Collecting catboost\n",
            "  Downloading catboost-1.2.2-cp310-cp310-manylinux2014_x86_64.whl (98.7 MB)\n",
            "\u001b[2K     \u001b[90m━━━━━━━━━━━━━━━━━━━━━━━━━━━━━━━━━━━━━━━━\u001b[0m \u001b[32m98.7/98.7 MB\u001b[0m \u001b[31m6.5 MB/s\u001b[0m eta \u001b[36m0:00:00\u001b[0m\n",
            "\u001b[?25hRequirement already satisfied: graphviz in /usr/local/lib/python3.10/dist-packages (from catboost) (0.20.1)\n",
            "Requirement already satisfied: matplotlib in /usr/local/lib/python3.10/dist-packages (from catboost) (3.7.1)\n",
            "Requirement already satisfied: numpy>=1.16.0 in /usr/local/lib/python3.10/dist-packages (from catboost) (1.23.5)\n",
            "Requirement already satisfied: pandas>=0.24 in /usr/local/lib/python3.10/dist-packages (from catboost) (1.5.3)\n",
            "Requirement already satisfied: scipy in /usr/local/lib/python3.10/dist-packages (from catboost) (1.11.3)\n",
            "Requirement already satisfied: plotly in /usr/local/lib/python3.10/dist-packages (from catboost) (5.15.0)\n",
            "Requirement already satisfied: six in /usr/local/lib/python3.10/dist-packages (from catboost) (1.16.0)\n",
            "Requirement already satisfied: python-dateutil>=2.8.1 in /usr/local/lib/python3.10/dist-packages (from pandas>=0.24->catboost) (2.8.2)\n",
            "Requirement already satisfied: pytz>=2020.1 in /usr/local/lib/python3.10/dist-packages (from pandas>=0.24->catboost) (2023.3.post1)\n",
            "Requirement already satisfied: contourpy>=1.0.1 in /usr/local/lib/python3.10/dist-packages (from matplotlib->catboost) (1.1.1)\n",
            "Requirement already satisfied: cycler>=0.10 in /usr/local/lib/python3.10/dist-packages (from matplotlib->catboost) (0.12.1)\n",
            "Requirement already satisfied: fonttools>=4.22.0 in /usr/local/lib/python3.10/dist-packages (from matplotlib->catboost) (4.43.1)\n",
            "Requirement already satisfied: kiwisolver>=1.0.1 in /usr/local/lib/python3.10/dist-packages (from matplotlib->catboost) (1.4.5)\n",
            "Requirement already satisfied: packaging>=20.0 in /usr/local/lib/python3.10/dist-packages (from matplotlib->catboost) (23.2)\n",
            "Requirement already satisfied: pillow>=6.2.0 in /usr/local/lib/python3.10/dist-packages (from matplotlib->catboost) (9.4.0)\n",
            "Requirement already satisfied: pyparsing>=2.3.1 in /usr/local/lib/python3.10/dist-packages (from matplotlib->catboost) (3.1.1)\n",
            "Requirement already satisfied: tenacity>=6.2.0 in /usr/local/lib/python3.10/dist-packages (from plotly->catboost) (8.2.3)\n",
            "Installing collected packages: catboost\n",
            "Successfully installed catboost-1.2.2\n"
          ]
        }
      ]
    },
    {
      "cell_type": "code",
      "source": [
        "from memory_profiler import profile"
      ],
      "metadata": {
        "id": "hd4kRcAsZC1x"
      },
      "execution_count": 10,
      "outputs": []
    },
    {
      "cell_type": "code",
      "execution_count": 38,
      "metadata": {
        "id": "q3QOsS7KYgdM"
      },
      "outputs": [],
      "source": [
        "from memory_profiler import profile\n",
        "import pandas as pd\n",
        "from sklearn.model_selection import train_test_split\n",
        "from sklearn.linear_model import LogisticRegression\n",
        "from sklearn.metrics import average_precision_score\n",
        "\n",
        "from catboost import CatBoostClassifier\n",
        "\n",
        "from timeit import default_timer as timer\n",
        "\n",
        "import cProfile, pstats, io\n",
        "from pstats import SortKey"
      ]
    },
    {
      "cell_type": "markdown",
      "source": [
        "To start, let’s import the Pandas library and read our data into a Pandas data frame:"
      ],
      "metadata": {
        "id": "rN7Ii_d6hjDR"
      }
    },
    {
      "cell_type": "code",
      "source": [
        "df = pd.read_csv(\"/content/drive/MyDrive/AI-CS-Nov2023/creditcard.csv\")\n"
      ],
      "metadata": {
        "id": "gmeYNrD0aRnO"
      },
      "execution_count": 12,
      "outputs": []
    },
    {
      "cell_type": "markdown",
      "source": [
        "# Next, let’s relax the display limits for columns and rows using the Pandas method set_option():\n",
        "\n"
      ],
      "metadata": {
        "id": "KbyvG4bUhqBt"
      }
    },
    {
      "cell_type": "code",
      "source": [
        "pd.set_option('display.max_columns', None)\n",
        "pd.set_option('display.max_rows', None)"
      ],
      "metadata": {
        "id": "GKoyc5YBhNDl"
      },
      "execution_count": 25,
      "outputs": []
    },
    {
      "cell_type": "markdown",
      "source": [
        "\n",
        "# Next, let’s display the first five rows of data using the head() method:\n"
      ],
      "metadata": {
        "id": "UXfKQkuViAF-"
      }
    },
    {
      "cell_type": "code",
      "source": [
        "print(df.head())"
      ],
      "metadata": {
        "colab": {
          "base_uri": "https://localhost:8080/"
        },
        "id": "GKZr0z3wfSp9",
        "outputId": "2df8a40f-1665-4f20-9017-9484fd59ba1b"
      },
      "execution_count": 26,
      "outputs": [
        {
          "output_type": "stream",
          "name": "stdout",
          "text": [
            "            Time        V1        V2        V3        V4        V5        V6  \\\n",
            "123719   77035.0 -0.307394  1.054983  0.940188 -0.120699  0.435110 -0.535121   \n",
            "209769  137697.0  0.271729  1.124104 -1.705547 -0.336154  0.863448 -1.206388   \n",
            "38837    39573.0 -1.204608  1.619422  0.842481  1.626251 -0.101059 -0.005622   \n",
            "38953    39628.0 -1.419886  1.808589  0.457963  2.471223  0.183311  1.305300   \n",
            "99062    66942.0 -0.208778  1.420082 -0.108277  0.989850  0.126301 -1.161187   \n",
            "\n",
            "              V7        V8        V9       V10       V11       V12       V13  \\\n",
            "123719  0.663844 -0.005949 -0.300109 -0.502034 -1.000976 -0.477544  0.031318   \n",
            "209769  0.812369  0.108942 -0.305962 -1.069973 -0.992622 -0.196218 -0.233032   \n",
            "38837   0.011532  0.858761 -0.950160 -0.435792 -1.917637  0.497064  0.745681   \n",
            "38953  -0.093348  0.953873 -2.068809  0.616840  0.241472  0.640245  1.302956   \n",
            "99062   0.768593  0.090921 -0.873187 -0.063377 -0.484934  0.734898  1.190559   \n",
            "\n",
            "             V14       V15       V16       V17       V18       V19       V20  \\\n",
            "123719 -0.431113  0.981281  0.636998 -0.281913  0.164437  0.225972  0.137466   \n",
            "209769 -0.579568 -0.596930  0.112981  0.708821  0.238954 -0.491990 -0.302361   \n",
            "38837   0.087820 -1.763079  0.634844 -0.361125 -0.291323 -1.073528 -0.403263   \n",
            "38953   0.766692  0.772103  0.330049 -0.109217  0.567807  1.096370 -0.127565   \n",
            "99062   0.584818  0.502868 -0.486110 -0.044007 -0.218127  0.365546  0.055243   \n",
            "\n",
            "             V21       V22       V23       V24       V25       V26       V27  \\\n",
            "123719 -0.317828 -0.863688 -0.106087 -0.526264 -0.054920  0.125234  0.241362   \n",
            "209769  0.321285  0.953738 -0.106337  0.719103 -0.283777  0.636167 -0.136882   \n",
            "38837   0.123273  0.204256 -0.073849 -0.099254 -0.294727 -0.202360 -0.218438   \n",
            "38953   0.280318  0.568673 -0.271461 -1.097679  0.534855  0.487792 -0.576308   \n",
            "99062   0.201966  0.688611  0.090539  0.430728 -0.642735 -0.417856  0.317416   \n",
            "\n",
            "             V28  Amount  Class  \n",
            "123719  0.089918    4.99      0  \n",
            "209769 -0.042261    5.00      0  \n",
            "38837   0.040275    6.40      0  \n",
            "38953  -0.183791   43.98      0  \n",
            "99062   0.165821   18.78      0  \n"
          ]
        }
      ]
    },
    {
      "cell_type": "markdown",
      "source": [
        "Next, to get an idea of how big this data set is, we can use the len method to see how many rows there are:\n",
        "\n",
        "And we can do something similar for counting the number of columns. We can assess the columns attribute from our Pandas data frame object and use the len() method to count the number of columns:\n",
        "\n",
        "\n"
      ],
      "metadata": {
        "id": "d9It0Q1TiW7K"
      }
    },
    {
      "cell_type": "code",
      "source": [
        "print(\"Number of rows: \", len(df))\n",
        "print(\"Number of columns: \", len(df.columns))\n"
      ],
      "metadata": {
        "colab": {
          "base_uri": "https://localhost:8080/"
        },
        "id": "3r8TnFeIfXMq",
        "outputId": "0cc6ba06-d197-472e-d297-46276bfbd6e2"
      },
      "execution_count": 16,
      "outputs": [
        {
          "output_type": "stream",
          "name": "stdout",
          "text": [
            "Number of rows:  284807\n",
            "Number of columns:  31\n"
          ]
        }
      ]
    },
    {
      "cell_type": "markdown",
      "source": [
        "# We can see that this data set is relatively large: 284,807 rows and 31 columns. Further, it takes up 150 MB of space. To demonstrate the benefits of profiling in Python, we’ll start with a small subsample of this data on which we’ll perform ETL and train a classification model.\n",
        "\n",
        "# Let’s proceed by generating a small subsample data set. Let’s take a random sample of 10,000 records from our data. We will also pass a value for random_state, which will guarantee that we select the same set of records every time we run the script. We can do this using the sample() method on our Pandas data frame:"
      ],
      "metadata": {
        "id": "Ylm6amAiioP0"
      }
    },
    {
      "cell_type": "code",
      "source": [
        "df = df.sample(10000, random_state=42)\n"
      ],
      "metadata": {
        "id": "FxyX6RgPgSOI"
      },
      "execution_count": 27,
      "outputs": []
    },
    {
      "cell_type": "markdown",
      "source": [
        "Next, we can write the subsample of our data to a new csv file:"
      ],
      "metadata": {
        "id": "Y_9aLZcwkszO"
      }
    },
    {
      "cell_type": "code",
      "source": [
        "df.to_csv(\"creditcard_subsample10000.csv\", index=False)"
      ],
      "metadata": {
        "id": "xsLDf8a4kraR"
      },
      "execution_count": 28,
      "outputs": []
    },
    {
      "cell_type": "code",
      "source": [
        "@profile\n",
        "def read_data(filename):\n",
        "    df = pd.read_csv(filename)\n",
        "    return df"
      ],
      "metadata": {
        "id": "WPG_YAUh3QrA"
      },
      "execution_count": 97,
      "outputs": []
    },
    {
      "cell_type": "code",
      "source": [
        "@profile\n",
        "def data_prep(dataframe, columns):\n",
        "    df_select = dataframe[columns]\n",
        "    return df_select"
      ],
      "metadata": {
        "id": "P-jB-bs63Rwf"
      },
      "execution_count": 113,
      "outputs": []
    },
    {
      "cell_type": "code",
      "source": [
        "@profile\n",
        "def feature_engineering(dataframe, inputs, output):\n",
        "    X = dataframe[inputs]\n",
        "    y = dataframe[output]\n",
        "    return X, y"
      ],
      "metadata": {
        "id": "-XjwcsrD3UkW"
      },
      "execution_count": 114,
      "outputs": []
    },
    {
      "cell_type": "code",
      "source": [
        "@profile\n",
        "def split_data(X, y):\n",
        "    X_train, X_test, y_train, y_test = train_test_split(X, y, random_state=42, test_size = 0.33)\n",
        "    return X_train, X_test, y_train, y_test"
      ],
      "metadata": {
        "id": "VxU7edmP3Xxv"
      },
      "execution_count": 115,
      "outputs": []
    },
    {
      "cell_type": "code",
      "source": [
        "@profile\n",
        "def model_training(X_train, y_train, model_type):\n",
        "    if model_type == 'Logistic Regression':\n",
        "        model = LogisticRegression()\n",
        "        model.fit(X_train, y_train)\n",
        "    elif model_type == 'CatBoost':\n",
        "        model = CatBoostClassifier()\n",
        "        model.fit(X_train, y_train)\n",
        "    return model"
      ],
      "metadata": {
        "id": "aS1lHJ383cg2"
      },
      "execution_count": 116,
      "outputs": []
    },
    {
      "cell_type": "code",
      "source": [
        "@profile\n",
        "def predict(model, X_test):\n",
        "    y_pred = model.predict(X_test)\n",
        "    return y_pred"
      ],
      "metadata": {
        "id": "sodfzk7j3dyZ"
      },
      "execution_count": 117,
      "outputs": []
    },
    {
      "cell_type": "code",
      "source": [
        "@profile\n",
        "def evaluate(y_pred, y_test):\n",
        "    precision = average_precision_score(y_test, y_pred)\n",
        "    print(\"Precision: \", precision)"
      ],
      "metadata": {
        "id": "9BKqf0do3igj"
      },
      "execution_count": 118,
      "outputs": []
    },
    {
      "cell_type": "code",
      "source": [
        "def main():\n",
        "    runtime_metrics = dict()\n",
        "    #read in data\n",
        "    start = timer()\n",
        "    data = read_data('/content/drive/MyDrive/AI-CS-Nov2023/creditcard.csv')\n",
        "    end = timer()\n",
        "    read_time = end - start\n",
        "    runtime_metrics['read_time'] = read_time"
      ],
      "metadata": {
        "id": "Hqs0PKvZ6Gk-"
      },
      "execution_count": 138,
      "outputs": []
    },
    {
      "cell_type": "code",
      "source": [
        "#slect relevant columns\n",
        "start = timer()\n",
        "columns = ['V1', 'V2', 'V3', 'Amount', 'Class']\n",
        "df_select = data_prep(data, columns)\n",
        "end = timer()\n",
        "select_time = end - start\n",
        "runtime_metrics['select_time'] = select_time"
      ],
      "metadata": {
        "colab": {
          "base_uri": "https://localhost:8080/",
          "height": 245
        },
        "id": "pS4Dp4Or6R1r",
        "outputId": "f3237179-462a-4515-b6be-6c3a21660d55"
      },
      "execution_count": 140,
      "outputs": [
        {
          "output_type": "error",
          "ename": "NameError",
          "evalue": "ignored",
          "traceback": [
            "\u001b[0;31m---------------------------------------------------------------------------\u001b[0m",
            "\u001b[0;31mNameError\u001b[0m                                 Traceback (most recent call last)",
            "\u001b[0;32m<ipython-input-140-10d5b89ff345>\u001b[0m in \u001b[0;36m<cell line: 4>\u001b[0;34m()\u001b[0m\n\u001b[1;32m      2\u001b[0m \u001b[0mstart\u001b[0m \u001b[0;34m=\u001b[0m \u001b[0mtimer\u001b[0m\u001b[0;34m(\u001b[0m\u001b[0;34m)\u001b[0m\u001b[0;34m\u001b[0m\u001b[0;34m\u001b[0m\u001b[0m\n\u001b[1;32m      3\u001b[0m \u001b[0mcolumns\u001b[0m \u001b[0;34m=\u001b[0m \u001b[0;34m[\u001b[0m\u001b[0;34m'V1'\u001b[0m\u001b[0;34m,\u001b[0m \u001b[0;34m'V2'\u001b[0m\u001b[0;34m,\u001b[0m \u001b[0;34m'V3'\u001b[0m\u001b[0;34m,\u001b[0m \u001b[0;34m'Amount'\u001b[0m\u001b[0;34m,\u001b[0m \u001b[0;34m'Class'\u001b[0m\u001b[0;34m]\u001b[0m\u001b[0;34m\u001b[0m\u001b[0;34m\u001b[0m\u001b[0m\n\u001b[0;32m----> 4\u001b[0;31m \u001b[0mdf_select\u001b[0m \u001b[0;34m=\u001b[0m \u001b[0mdata_prep\u001b[0m\u001b[0;34m(\u001b[0m\u001b[0mdata\u001b[0m\u001b[0;34m,\u001b[0m \u001b[0mcolumns\u001b[0m\u001b[0;34m)\u001b[0m\u001b[0;34m\u001b[0m\u001b[0;34m\u001b[0m\u001b[0m\n\u001b[0m\u001b[1;32m      5\u001b[0m \u001b[0mend\u001b[0m \u001b[0;34m=\u001b[0m \u001b[0mtimer\u001b[0m\u001b[0;34m(\u001b[0m\u001b[0;34m)\u001b[0m\u001b[0;34m\u001b[0m\u001b[0;34m\u001b[0m\u001b[0m\n\u001b[1;32m      6\u001b[0m \u001b[0mselect_time\u001b[0m \u001b[0;34m=\u001b[0m \u001b[0mend\u001b[0m \u001b[0;34m-\u001b[0m \u001b[0mstart\u001b[0m\u001b[0;34m\u001b[0m\u001b[0;34m\u001b[0m\u001b[0m\n",
            "\u001b[0;31mNameError\u001b[0m: name 'data' is not defined"
          ]
        }
      ]
    },
    {
      "cell_type": "code",
      "source": [
        "from pandas.io.parsers.readers import read_csv\n",
        "def main():\n",
        "    runtime_metrics = dict()\n",
        "    #read in data\n",
        "    start = timer()\n",
        "    data = read_data('/content/drive/MyDrive/AI-CS-Nov2023/creditcard.csv')\n",
        "    end = timer()\n",
        "    read_time = end - start\n",
        "    runtime_metrics['read_time'] = read_time\n",
        "\n",
        "    #slect relevant columns\n",
        "    start = timer()\n",
        "    columns = ['V1', 'V2', 'V3', 'Amount', 'Class']\n",
        "    df_select = data_prep(data, columns)\n",
        "    end = timer()\n",
        "    select_time = end - start\n",
        "    runtime_metrics['select_time'] = select_time"
      ],
      "metadata": {
        "id": "zcy0oumF3jpu"
      },
      "execution_count": 135,
      "outputs": []
    },
    {
      "cell_type": "code",
      "source": [
        "#slect relevant columns\n",
        "start = timer()\n",
        "columns = ['V1', 'V2', 'V3', 'Amount', 'Class']\n",
        "df_select = data_prep(data, columns)\n",
        "end = timer()\n",
        "select_time = end - start\n",
        "runtime_metrics['select_time'] = select_time"
      ],
      "metadata": {
        "colab": {
          "base_uri": "https://localhost:8080/",
          "height": 245
        },
        "id": "2fpSdgnu40hf",
        "outputId": "b12fda2d-e9fe-401d-fb40-cabfb8fed71c"
      },
      "execution_count": 136,
      "outputs": [
        {
          "output_type": "error",
          "ename": "NameError",
          "evalue": "ignored",
          "traceback": [
            "\u001b[0;31m---------------------------------------------------------------------------\u001b[0m",
            "\u001b[0;31mNameError\u001b[0m                                 Traceback (most recent call last)",
            "\u001b[0;32m<ipython-input-136-10d5b89ff345>\u001b[0m in \u001b[0;36m<cell line: 4>\u001b[0;34m()\u001b[0m\n\u001b[1;32m      2\u001b[0m \u001b[0mstart\u001b[0m \u001b[0;34m=\u001b[0m \u001b[0mtimer\u001b[0m\u001b[0;34m(\u001b[0m\u001b[0;34m)\u001b[0m\u001b[0;34m\u001b[0m\u001b[0;34m\u001b[0m\u001b[0m\n\u001b[1;32m      3\u001b[0m \u001b[0mcolumns\u001b[0m \u001b[0;34m=\u001b[0m \u001b[0;34m[\u001b[0m\u001b[0;34m'V1'\u001b[0m\u001b[0;34m,\u001b[0m \u001b[0;34m'V2'\u001b[0m\u001b[0;34m,\u001b[0m \u001b[0;34m'V3'\u001b[0m\u001b[0;34m,\u001b[0m \u001b[0;34m'Amount'\u001b[0m\u001b[0;34m,\u001b[0m \u001b[0;34m'Class'\u001b[0m\u001b[0;34m]\u001b[0m\u001b[0;34m\u001b[0m\u001b[0;34m\u001b[0m\u001b[0m\n\u001b[0;32m----> 4\u001b[0;31m \u001b[0mdf_select\u001b[0m \u001b[0;34m=\u001b[0m \u001b[0mdata_prep\u001b[0m\u001b[0;34m(\u001b[0m\u001b[0mdata\u001b[0m\u001b[0;34m,\u001b[0m \u001b[0mcolumns\u001b[0m\u001b[0;34m)\u001b[0m\u001b[0;34m\u001b[0m\u001b[0;34m\u001b[0m\u001b[0m\n\u001b[0m\u001b[1;32m      5\u001b[0m \u001b[0mend\u001b[0m \u001b[0;34m=\u001b[0m \u001b[0mtimer\u001b[0m\u001b[0;34m(\u001b[0m\u001b[0;34m)\u001b[0m\u001b[0;34m\u001b[0m\u001b[0;34m\u001b[0m\u001b[0m\n\u001b[1;32m      6\u001b[0m \u001b[0mselect_time\u001b[0m \u001b[0;34m=\u001b[0m \u001b[0mend\u001b[0m \u001b[0;34m-\u001b[0m \u001b[0mstart\u001b[0m\u001b[0;34m\u001b[0m\u001b[0;34m\u001b[0m\u001b[0m\n",
            "\u001b[0;31mNameError\u001b[0m: name 'data' is not defined"
          ]
        }
      ]
    },
    {
      "cell_type": "code",
      "source": [
        "#define input and output\n",
        "start = timer()\n",
        "inputs = ['V1', 'V2', 'V3']\n",
        "output = 'Class'\n",
        "X, y = feature_engineering(df_select, inputs, output)\n",
        "end = timer()\n",
        "data_prep_time = end - start\n",
        "runtime_metrics['data_prep_time'] = data_prep_time"
      ],
      "metadata": {
        "colab": {
          "base_uri": "https://localhost:8080/",
          "height": 245
        },
        "id": "qKuNMJ3n3n0F",
        "outputId": "8ef3bb8a-cc05-4924-eb89-2b45238dc42d"
      },
      "execution_count": 120,
      "outputs": [
        {
          "output_type": "error",
          "ename": "NameError",
          "evalue": "ignored",
          "traceback": [
            "\u001b[0;31m---------------------------------------------------------------------------\u001b[0m",
            "\u001b[0;31mNameError\u001b[0m                                 Traceback (most recent call last)",
            "\u001b[0;32m<ipython-input-120-51e8efb53a47>\u001b[0m in \u001b[0;36m<cell line: 5>\u001b[0;34m()\u001b[0m\n\u001b[1;32m      3\u001b[0m \u001b[0minputs\u001b[0m \u001b[0;34m=\u001b[0m \u001b[0;34m[\u001b[0m\u001b[0;34m'V1'\u001b[0m\u001b[0;34m,\u001b[0m \u001b[0;34m'V2'\u001b[0m\u001b[0;34m,\u001b[0m \u001b[0;34m'V3'\u001b[0m\u001b[0;34m]\u001b[0m\u001b[0;34m\u001b[0m\u001b[0;34m\u001b[0m\u001b[0m\n\u001b[1;32m      4\u001b[0m \u001b[0moutput\u001b[0m \u001b[0;34m=\u001b[0m \u001b[0;34m'Class'\u001b[0m\u001b[0;34m\u001b[0m\u001b[0;34m\u001b[0m\u001b[0m\n\u001b[0;32m----> 5\u001b[0;31m \u001b[0mX\u001b[0m\u001b[0;34m,\u001b[0m \u001b[0my\u001b[0m \u001b[0;34m=\u001b[0m \u001b[0mfeature_engineering\u001b[0m\u001b[0;34m(\u001b[0m\u001b[0mdf_select\u001b[0m\u001b[0;34m,\u001b[0m \u001b[0minputs\u001b[0m\u001b[0;34m,\u001b[0m \u001b[0moutput\u001b[0m\u001b[0;34m)\u001b[0m\u001b[0;34m\u001b[0m\u001b[0;34m\u001b[0m\u001b[0m\n\u001b[0m\u001b[1;32m      6\u001b[0m \u001b[0mend\u001b[0m \u001b[0;34m=\u001b[0m \u001b[0mtimer\u001b[0m\u001b[0;34m(\u001b[0m\u001b[0;34m)\u001b[0m\u001b[0;34m\u001b[0m\u001b[0;34m\u001b[0m\u001b[0m\n\u001b[1;32m      7\u001b[0m \u001b[0mdata_prep_time\u001b[0m \u001b[0;34m=\u001b[0m \u001b[0mend\u001b[0m \u001b[0;34m-\u001b[0m \u001b[0mstart\u001b[0m\u001b[0;34m\u001b[0m\u001b[0;34m\u001b[0m\u001b[0m\n",
            "\u001b[0;31mNameError\u001b[0m: name 'df_select' is not defined"
          ]
        }
      ]
    },
    {
      "cell_type": "markdown",
      "source": [
        "### Defining Our ML Pipeline\n",
        "Now we can start building out the logic for data preparation and model training.\n",
        "\n",
        "---\n",
        "\n",
        "\n",
        "Let’s define a method that reads in our csv file, stores it in a data frame and returns it:"
      ],
      "metadata": {
        "id": "hJOvtOASkjfY"
      }
    },
    {
      "cell_type": "code",
      "source": [
        "def read_data(filename):\n",
        "    df = pd.read_csv(filename)\n",
        "    return df"
      ],
      "metadata": {
        "id": "GRbSO0IVkzY5"
      },
      "execution_count": 30,
      "outputs": []
    },
    {
      "cell_type": "markdown",
      "source": [
        "Next, let’s define a function that selects a subset of columns in the data. The function will take a data frame and a list of columns as inputs and return a new one with the selected columns:"
      ],
      "metadata": {
        "id": "XFg5Ie-ypDjG"
      }
    },
    {
      "cell_type": "code",
      "source": [
        "def data_prep(dataframe, columns):\n",
        "    df_select = dataframe[columns]\n",
        "    return df_select"
      ],
      "metadata": {
        "id": "1_-8W7fHpBxS"
      },
      "execution_count": 31,
      "outputs": []
    },
    {
      "cell_type": "markdown",
      "source": [
        "Next, let’s define a method that itself defines model inputs and outputs and returns these values:"
      ],
      "metadata": {
        "id": "fasoUN9jpRwY"
      }
    },
    {
      "cell_type": "code",
      "source": [
        "def feature_engineering(dataframe, inputs, output):\n",
        "    X = dataframe[inputs]\n",
        "    y = dataframe[output]\n",
        "    return X, y"
      ],
      "metadata": {
        "id": "EgwRo1s3pTHv"
      },
      "execution_count": 32,
      "outputs": []
    },
    {
      "cell_type": "markdown",
      "source": [
        "We can then define a method used for splitting data for training and testing. First, at the top of our script, let’s import the train_test_split method from the model_selection module in Scikit-learn:"
      ],
      "metadata": {
        "id": "DSa5WIrkpV7E"
      }
    },
    {
      "cell_type": "code",
      "source": [
        "from sklearn.model_selection import train_test_split"
      ],
      "metadata": {
        "id": "-bqEianXpZWD"
      },
      "execution_count": 39,
      "outputs": []
    },
    {
      "cell_type": "markdown",
      "source": [
        "Now we can define our method for splitting our data:"
      ],
      "metadata": {
        "id": "4D6dwO9ppiOZ"
      }
    },
    {
      "cell_type": "code",
      "source": [
        "def split_data(X, y):\n",
        "    X_train, X_test, y_train, y_test = train_test_split(X, y,\n",
        "random_state=42, test_size = 0.33)\n",
        "    return X_train, X_test, y_train, y_test"
      ],
      "metadata": {
        "id": "csv5cTbSpkMg"
      },
      "execution_count": 40,
      "outputs": []
    },
    {
      "cell_type": "code",
      "source": [
        "pip install scikit-learn"
      ],
      "metadata": {
        "colab": {
          "base_uri": "https://localhost:8080/"
        },
        "id": "f-LIU7s4rKLq",
        "outputId": "ce0fdede-dfe8-4f28-e1e2-3e13740573b2"
      },
      "execution_count": 59,
      "outputs": [
        {
          "output_type": "stream",
          "name": "stdout",
          "text": [
            "Requirement already satisfied: scikit-learn in /usr/local/lib/python3.10/dist-packages (1.2.2)\n",
            "Requirement already satisfied: numpy>=1.17.3 in /usr/local/lib/python3.10/dist-packages (from scikit-learn) (1.23.5)\n",
            "Requirement already satisfied: scipy>=1.3.2 in /usr/local/lib/python3.10/dist-packages (from scikit-learn) (1.11.3)\n",
            "Requirement already satisfied: joblib>=1.1.1 in /usr/local/lib/python3.10/dist-packages (from scikit-learn) (1.3.2)\n",
            "Requirement already satisfied: threadpoolctl>=2.0.0 in /usr/local/lib/python3.10/dist-packages (from scikit-learn) (3.2.0)\n"
          ]
        }
      ]
    },
    {
      "cell_type": "code",
      "source": [
        "#optional added by Zaman\n",
        "!apt install sklearn.linear_models"
      ],
      "metadata": {
        "colab": {
          "base_uri": "https://localhost:8080/"
        },
        "id": "TxP9Wo-brQY5",
        "outputId": "5d67c53a-06a3-42c9-d76b-06d7bd5845bd"
      },
      "execution_count": 65,
      "outputs": [
        {
          "output_type": "stream",
          "name": "stdout",
          "text": [
            "Reading package lists... Done\n",
            "Building dependency tree... Done\n",
            "Reading state information... Done\n",
            "\u001b[1;31mE: \u001b[0mUnable to locate package sklearn.linear_models\u001b[0m\n"
          ]
        }
      ]
    },
    {
      "cell_type": "code",
      "source": [
        "#optional added by Zaman\n",
        "import sklearn;\n",
        "sklearn.show_versions()"
      ],
      "metadata": {
        "colab": {
          "base_uri": "https://localhost:8080/"
        },
        "id": "1zbM5RcSzAuf",
        "outputId": "5a055a16-8085-4214-9125-3b82a0e53a9a"
      },
      "execution_count": 69,
      "outputs": [
        {
          "output_type": "stream",
          "name": "stdout",
          "text": [
            "\n",
            "System:\n",
            "    python: 3.10.12 (main, Jun 11 2023, 05:26:28) [GCC 11.4.0]\n",
            "executable: /usr/bin/python3\n",
            "   machine: Linux-5.15.120+-x86_64-with-glibc2.35\n",
            "\n",
            "Python dependencies:\n",
            "      sklearn: 1.2.2\n",
            "          pip: 23.1.2\n",
            "   setuptools: 67.7.2\n",
            "        numpy: 1.23.5\n",
            "        scipy: 1.11.3\n",
            "       Cython: 3.0.4\n",
            "       pandas: 1.5.3\n",
            "   matplotlib: 3.7.1\n",
            "       joblib: 1.3.2\n",
            "threadpoolctl: 3.2.0\n",
            "\n",
            "Built with OpenMP: True\n",
            "\n",
            "threadpoolctl info:\n",
            "       user_api: blas\n",
            "   internal_api: openblas\n",
            "    num_threads: 2\n",
            "         prefix: libopenblas\n",
            "       filepath: /usr/local/lib/python3.10/dist-packages/numpy.libs/libopenblas64_p-r0-742d56dc.3.20.so\n",
            "        version: 0.3.20\n",
            "threading_layer: pthreads\n",
            "   architecture: Haswell\n",
            "\n",
            "       user_api: openmp\n",
            "   internal_api: openmp\n",
            "    num_threads: 2\n",
            "         prefix: libgomp\n",
            "       filepath: /usr/local/lib/python3.10/dist-packages/scikit_learn.libs/libgomp-a34b3233.so.1.0.0\n",
            "        version: None\n",
            "\n",
            "       user_api: blas\n",
            "   internal_api: openblas\n",
            "    num_threads: 2\n",
            "         prefix: libopenblas\n",
            "       filepath: /usr/local/lib/python3.10/dist-packages/scipy.libs/libopenblasp-r0-23e5df77.3.21.dev.so\n",
            "        version: 0.3.21.dev\n",
            "threading_layer: pthreads\n",
            "   architecture: Haswell\n"
          ]
        }
      ]
    },
    {
      "cell_type": "markdown",
      "source": [
        "Next, we can define a method that will fit a model of our choice to our training data. Let’s start with a simple logistic regression model. We can import the logistic regression class from the linear models module in Scikit-learn:"
      ],
      "metadata": {
        "id": "QZDuD_EXpsax"
      }
    },
    {
      "cell_type": "code",
      "source": [
        "#from sklearn.linear_models import logistic_regression #error\n",
        "#from sklearn.linear_model import LinearRegression\n",
        "from sklearn.linear_model import LogisticRegression"
      ],
      "metadata": {
        "id": "wBHy7QCcptMT"
      },
      "execution_count": 74,
      "outputs": []
    },
    {
      "cell_type": "markdown",
      "source": [
        "We will then define a method that takes our training data and an input that specifies the model type. The model type parameter we will use to define and train a more complex model later on:"
      ],
      "metadata": {
        "id": "L6QRDKJgz9tX"
      }
    },
    {
      "cell_type": "code",
      "source": [
        "def model_training(X_train, y_train, model_type):\n",
        "    if model_type == 'Logistic Regression':\n",
        "        model = LogisticRegression()\n",
        "        model.fit(X_train, y_train)\n",
        "    elif model_type == 'CatBoost':\n",
        "        model = CatBoostClassifier()\n",
        "        model.fit(X_train, y_train)\n",
        "    return model"
      ],
      "metadata": {
        "id": "ugB_hEar0f55"
      },
      "execution_count": 85,
      "outputs": []
    },
    {
      "cell_type": "markdown",
      "source": [
        "Next, we can define a method that take our trained model and test data as inputs and returns predictions:"
      ],
      "metadata": {
        "id": "_bnr_-yH0s5a"
      }
    },
    {
      "cell_type": "code",
      "source": [
        "def predict(model, X_test):\n",
        "    y_pred = model.predict(X_test)\n",
        "    return y_pred"
      ],
      "metadata": {
        "id": "_ZoCH0zF0tzc"
      },
      "execution_count": 86,
      "outputs": []
    },
    {
      "cell_type": "markdown",
      "source": [
        "Finally, let’s define a method that evaluates our predictions. We’ll use average precision, which is a useful performance metric for imbalance classification problems. An imbalance classification problem is one where one of the targets has significantly fewer examples than the other target(s). In this case, most of the transaction data correspond to legitimate transactions, whereas a small minority of transactions are fraudulent:"
      ],
      "metadata": {
        "id": "wG06PBEq0ygn"
      }
    },
    {
      "cell_type": "code",
      "source": [
        "def evaluate(y_pred, y_test):\n",
        "    precision = average_precision_score(y_test, y_pred)\n",
        "    print(\"Precision: \", precision)"
      ],
      "metadata": {
        "id": "yYyC8M1K0zVE"
      },
      "execution_count": 87,
      "outputs": []
    },
    {
      "cell_type": "markdown",
      "source": [
        "Now we have all of the logic in place for our simple ML pipeline. Let’s execute this logic for our small subsample of data. First, let’s define a main function that we’ll use to execute our code. In this main function, we’ll read in our subsampled data:"
      ],
      "metadata": {
        "id": "JwocVNC_10cd"
      }
    },
    {
      "cell_type": "code",
      "source": [
        "def main():\n",
        "    data = read_data('creditcard_subsample10000.csv')"
      ],
      "metadata": {
        "id": "PXyVTd7Q11TU"
      },
      "execution_count": 89,
      "outputs": []
    },
    {
      "cell_type": "markdown",
      "source": [
        "Next, use the data prep method to select our columns. Let’s select V1, V2, V3, Amount and Class:"
      ],
      "metadata": {
        "id": "KhfQK8Sp1-hH"
      }
    },
    {
      "cell_type": "code",
      "source": [
        "def main():\n",
        "    ... # preceding code left out for clarity\n",
        "    columns = ['V1', 'V2', 'V3', 'Amount', 'Class']\n",
        "    df_select = data_prep(data, columns)"
      ],
      "metadata": {
        "id": "sJCIaIC22BXQ"
      },
      "execution_count": 90,
      "outputs": []
    },
    {
      "cell_type": "markdown",
      "source": [
        "Let’s then define inputs and output. We will use V1, V2, V3, and Amount as inputs; the class will be the output:"
      ],
      "metadata": {
        "id": "Zbb7yMaO2FXg"
      }
    },
    {
      "cell_type": "code",
      "source": [
        "def main():\n",
        "    ... # preceding code left out for clarity\n",
        "    inputs = ['V1', 'V2', 'V3']\n",
        "    output = 'Class'\n",
        "    X, y = feature_engineering(df_select, inputs, output)"
      ],
      "metadata": {
        "id": "An2YeWMm2BeL"
      },
      "execution_count": 91,
      "outputs": []
    },
    {
      "cell_type": "markdown",
      "source": [
        "We’ll split our data for training and testing:"
      ],
      "metadata": {
        "id": "eBCwjE_L2Jz5"
      }
    },
    {
      "cell_type": "code",
      "source": [
        "def main():\n",
        "    ... # preceding code left out for clarity\n",
        "    X_train, X_test, y_train, y_test = split_data(X, y)"
      ],
      "metadata": {
        "id": "X2mvNOW42KgA"
      },
      "execution_count": 92,
      "outputs": []
    },
    {
      "cell_type": "markdown",
      "source": [
        "Fit our data:"
      ],
      "metadata": {
        "id": "u33oNPlb2OhV"
      }
    },
    {
      "cell_type": "code",
      "source": [
        "def main():\n",
        "    ... # preceding code left out for clarity\n",
        "    model_type = 'Logistic Regression'\n",
        "    model = model_training(X_train, y_train, model_type)"
      ],
      "metadata": {
        "id": "RmIjA_Gi2PQQ"
      },
      "execution_count": 93,
      "outputs": []
    },
    {
      "cell_type": "markdown",
      "source": [
        "Make predictions:"
      ],
      "metadata": {
        "id": "gznhTDYj2Tx-"
      }
    },
    {
      "cell_type": "code",
      "source": [
        "def main():\n",
        "    ... # preceding code left out for clarity\n",
        "    y_pred = predict(model, X_test)"
      ],
      "metadata": {
        "id": "GgjuhDyQ2Umu"
      },
      "execution_count": 94,
      "outputs": []
    },
    {
      "cell_type": "markdown",
      "source": [
        "And, finally, evaluate model predictions:"
      ],
      "metadata": {
        "id": "axTq7Riv2ayh"
      }
    },
    {
      "cell_type": "code",
      "source": [
        "def main():\n",
        "    ... # preceding code left out for clarity\n",
        "    evaluate(y_pred, y_test)"
      ],
      "metadata": {
        "id": "2lqWCpvw2bcY"
      },
      "execution_count": 95,
      "outputs": []
    },
    {
      "cell_type": "markdown",
      "source": [
        "We can then execute the main function with the following logic:"
      ],
      "metadata": {
        "id": "Q_oMElJE2g_C"
      }
    },
    {
      "cell_type": "code",
      "source": [
        "if __name__ == \"__main__\":\n",
        "    main()"
      ],
      "metadata": {
        "colab": {
          "base_uri": "https://localhost:8080/",
          "height": 280
        },
        "id": "6YKUjFIE2hks",
        "outputId": "c68c0ed9-b716-44b3-e5ea-a1872600c784"
      },
      "execution_count": 96,
      "outputs": [
        {
          "output_type": "error",
          "ename": "NameError",
          "evalue": "ignored",
          "traceback": [
            "\u001b[0;31m---------------------------------------------------------------------------\u001b[0m",
            "\u001b[0;31mNameError\u001b[0m                                 Traceback (most recent call last)",
            "\u001b[0;32m<ipython-input-96-972361fa1b80>\u001b[0m in \u001b[0;36m<cell line: 1>\u001b[0;34m()\u001b[0m\n\u001b[1;32m      1\u001b[0m \u001b[0;32mif\u001b[0m \u001b[0m__name__\u001b[0m \u001b[0;34m==\u001b[0m \u001b[0;34m\"__main__\"\u001b[0m\u001b[0;34m:\u001b[0m\u001b[0;34m\u001b[0m\u001b[0;34m\u001b[0m\u001b[0m\n\u001b[0;32m----> 2\u001b[0;31m     \u001b[0mmain\u001b[0m\u001b[0;34m(\u001b[0m\u001b[0;34m)\u001b[0m\u001b[0;34m\u001b[0m\u001b[0;34m\u001b[0m\u001b[0m\n\u001b[0m",
            "\u001b[0;32m<ipython-input-95-9c5f0a299e44>\u001b[0m in \u001b[0;36mmain\u001b[0;34m()\u001b[0m\n\u001b[1;32m      1\u001b[0m \u001b[0;32mdef\u001b[0m \u001b[0mmain\u001b[0m\u001b[0;34m(\u001b[0m\u001b[0;34m)\u001b[0m\u001b[0;34m:\u001b[0m\u001b[0;34m\u001b[0m\u001b[0;34m\u001b[0m\u001b[0m\n\u001b[1;32m      2\u001b[0m     \u001b[0;34m...\u001b[0m \u001b[0;31m# preceding code left out for clarity\u001b[0m\u001b[0;34m\u001b[0m\u001b[0;34m\u001b[0m\u001b[0m\n\u001b[0;32m----> 3\u001b[0;31m     \u001b[0mevaluate\u001b[0m\u001b[0;34m(\u001b[0m\u001b[0my_pred\u001b[0m\u001b[0;34m,\u001b[0m \u001b[0my_test\u001b[0m\u001b[0;34m)\u001b[0m\u001b[0;34m\u001b[0m\u001b[0;34m\u001b[0m\u001b[0m\n\u001b[0m",
            "\u001b[0;31mNameError\u001b[0m: name 'y_pred' is not defined"
          ]
        }
      ]
    },
    {
      "cell_type": "code",
      "source": [
        "@profile\n",
        "def read_data(filename):\n",
        "    df = pd.read_csv(filename)\n",
        "    return df\n",
        ""
      ],
      "metadata": {
        "id": "0F_c-wlngfvG"
      },
      "execution_count": 23,
      "outputs": []
    },
    {
      "cell_type": "code",
      "source": [
        "print(df.head())"
      ],
      "metadata": {
        "colab": {
          "base_uri": "https://localhost:8080/"
        },
        "id": "LADkJi8tg33R",
        "outputId": "4de661af-1c78-4256-b5cc-404399d16f7d"
      },
      "execution_count": 24,
      "outputs": [
        {
          "output_type": "stream",
          "name": "stdout",
          "text": [
            "            Time        V1        V2        V3        V4        V5        V6  \\\n",
            "123719   77035.0 -0.307394  1.054983  0.940188 -0.120699  0.435110 -0.535121   \n",
            "209769  137697.0  0.271729  1.124104 -1.705547 -0.336154  0.863448 -1.206388   \n",
            "38837    39573.0 -1.204608  1.619422  0.842481  1.626251 -0.101059 -0.005622   \n",
            "38953    39628.0 -1.419886  1.808589  0.457963  2.471223  0.183311  1.305300   \n",
            "99062    66942.0 -0.208778  1.420082 -0.108277  0.989850  0.126301 -1.161187   \n",
            "\n",
            "              V7        V8        V9  ...       V21       V22       V23  \\\n",
            "123719  0.663844 -0.005949 -0.300109  ... -0.317828 -0.863688 -0.106087   \n",
            "209769  0.812369  0.108942 -0.305962  ...  0.321285  0.953738 -0.106337   \n",
            "38837   0.011532  0.858761 -0.950160  ...  0.123273  0.204256 -0.073849   \n",
            "38953  -0.093348  0.953873 -2.068809  ...  0.280318  0.568673 -0.271461   \n",
            "99062   0.768593  0.090921 -0.873187  ...  0.201966  0.688611  0.090539   \n",
            "\n",
            "             V24       V25       V26       V27       V28  Amount  Class  \n",
            "123719 -0.526264 -0.054920  0.125234  0.241362  0.089918    4.99      0  \n",
            "209769  0.719103 -0.283777  0.636167 -0.136882 -0.042261    5.00      0  \n",
            "38837  -0.099254 -0.294727 -0.202360 -0.218438  0.040275    6.40      0  \n",
            "38953  -1.097679  0.534855  0.487792 -0.576308 -0.183791   43.98      0  \n",
            "99062   0.430728 -0.642735 -0.417856  0.317416  0.165821   18.78      0  \n",
            "\n",
            "[5 rows x 31 columns]\n"
          ]
        }
      ]
    }
  ]
}